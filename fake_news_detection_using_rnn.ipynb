{
  "metadata": {
    "kernelspec": {
      "language": "python",
      "display_name": "Python 3",
      "name": "python3"
    },
    "language_info": {
      "name": "python",
      "version": "3.7.6",
      "mimetype": "text/x-python",
      "codemirror_mode": {
        "name": "ipython",
        "version": 3
      },
      "pygments_lexer": "ipython3",
      "nbconvert_exporter": "python",
      "file_extension": ".py"
    },
    "colab": {
      "provenance": []
    }
  },
  "nbformat_minor": 0,
  "nbformat": 4,
  "cells": [
    {
      "cell_type": "code",
      "source": [
        "import pandas as pd \n",
        "import matplotlib.pyplot as plt \n",
        "import numpy as np \n",
        "import tensorflow as tf \n",
        "import re \n",
        "from tensorflow.keras.preprocessing.text import Tokenizer\n",
        "import tensorflow as tf\n",
        "from sklearn.metrics import accuracy_score\n",
        "from sklearn.model_selection import train_test_split\n",
        "from sklearn.metrics import accuracy_score, confusion_matrix, precision_score, recall_score\n",
        "import seaborn as sns \n",
        "plt.style.use('ggplot')"
      ],
      "metadata": {
        "_uuid": "8f2839f25d086af736a60e9eeb907d3b93b6e0e5",
        "_cell_guid": "b1076dfc-b9ad-4769-8c92-a6c4dae69d19",
        "execution": {
          "iopub.status.busy": "2022-10-12T01:55:31.045352Z",
          "iopub.execute_input": "2022-10-12T01:55:31.046054Z",
          "iopub.status.idle": "2022-10-12T01:55:31.054088Z",
          "shell.execute_reply.started": "2022-10-12T01:55:31.046015Z",
          "shell.execute_reply": "2022-10-12T01:55:31.052858Z"
        },
        "trusted": true,
        "id": "RCXEV61n4JfM"
      },
      "execution_count": null,
      "outputs": []
    },
    {
      "cell_type": "markdown",
      "source": [
        "Read the data "
      ],
      "metadata": {
        "id": "AOzaa0vK4JfM"
      }
    },
    {
      "cell_type": "code",
      "source": [
        "fake_df = pd.read_csv('../input/fake-and-real-news-dataset/Fake.csv')\n",
        "real_df = pd.read_csv('../input/fake-and-real-news-dataset/True.csv')"
      ],
      "metadata": {
        "_uuid": "d629ff2d2480ee46fbb7e2d37f6b5fab8052498a",
        "_cell_guid": "79c7e3d0-c299-4dcb-8224-4455121ee9b0",
        "execution": {
          "iopub.status.busy": "2022-10-12T01:55:31.056735Z",
          "iopub.execute_input": "2022-10-12T01:55:31.057182Z",
          "iopub.status.idle": "2022-10-12T01:55:32.120362Z",
          "shell.execute_reply.started": "2022-10-12T01:55:31.057138Z",
          "shell.execute_reply": "2022-10-12T01:55:32.119423Z"
        },
        "trusted": true,
        "id": "uhJU1vMq4JfN"
      },
      "execution_count": null,
      "outputs": []
    },
    {
      "cell_type": "markdown",
      "source": [
        "Checking for null values "
      ],
      "metadata": {
        "id": "ZFyA0kH84JfN"
      }
    },
    {
      "cell_type": "code",
      "source": [
        "fake_df.isnull().sum()"
      ],
      "metadata": {
        "execution": {
          "iopub.status.busy": "2022-10-12T01:55:32.123038Z",
          "iopub.execute_input": "2022-10-12T01:55:32.123465Z",
          "iopub.status.idle": "2022-10-12T01:55:32.140628Z",
          "shell.execute_reply.started": "2022-10-12T01:55:32.123422Z",
          "shell.execute_reply": "2022-10-12T01:55:32.139648Z"
        },
        "trusted": true,
        "id": "5eTiPHzY4JfN",
        "outputId": "a7930da4-3d4d-483e-d9ce-59cc6728e051"
      },
      "execution_count": null,
      "outputs": [
        {
          "execution_count": 22,
          "output_type": "execute_result",
          "data": {
            "text/plain": "title      0\ntext       0\nsubject    0\ndate       0\ndtype: int64"
          },
          "metadata": {}
        }
      ]
    },
    {
      "cell_type": "code",
      "source": [
        "real_df.isnull().sum()"
      ],
      "metadata": {
        "execution": {
          "iopub.status.busy": "2022-10-12T01:55:32.142077Z",
          "iopub.execute_input": "2022-10-12T01:55:32.142822Z",
          "iopub.status.idle": "2022-10-12T01:55:32.159683Z",
          "shell.execute_reply.started": "2022-10-12T01:55:32.142773Z",
          "shell.execute_reply": "2022-10-12T01:55:32.158506Z"
        },
        "trusted": true,
        "id": "c2WQWCmJ4JfO",
        "outputId": "1c699e43-05f0-49a7-aae0-6085459db8ed"
      },
      "execution_count": null,
      "outputs": [
        {
          "execution_count": 23,
          "output_type": "execute_result",
          "data": {
            "text/plain": "title      0\ntext       0\nsubject    0\ndate       0\ndtype: int64"
          },
          "metadata": {}
        }
      ]
    },
    {
      "cell_type": "markdown",
      "source": [
        "Checking for unique values for subject. We want both data frames to have a similar distribution."
      ],
      "metadata": {
        "id": "ZHr1o-W14JfO"
      }
    },
    {
      "cell_type": "code",
      "source": [
        "fake_df.subject.unique()"
      ],
      "metadata": {
        "execution": {
          "iopub.status.busy": "2022-10-12T01:55:32.162422Z",
          "iopub.execute_input": "2022-10-12T01:55:32.162758Z",
          "iopub.status.idle": "2022-10-12T01:55:32.171822Z",
          "shell.execute_reply.started": "2022-10-12T01:55:32.162727Z",
          "shell.execute_reply": "2022-10-12T01:55:32.170584Z"
        },
        "trusted": true,
        "id": "9nGv1C7-4JfO",
        "outputId": "8cd03064-0411-4ffd-db55-3610675fe794"
      },
      "execution_count": null,
      "outputs": [
        {
          "execution_count": 24,
          "output_type": "execute_result",
          "data": {
            "text/plain": "array(['News', 'politics', 'Government News', 'left-news', 'US_News',\n       'Middle-east'], dtype=object)"
          },
          "metadata": {}
        }
      ]
    },
    {
      "cell_type": "code",
      "source": [
        "real_df.subject.unique()"
      ],
      "metadata": {
        "execution": {
          "iopub.status.busy": "2022-10-12T01:55:32.174215Z",
          "iopub.execute_input": "2022-10-12T01:55:32.174709Z",
          "iopub.status.idle": "2022-10-12T01:55:32.186514Z",
          "shell.execute_reply.started": "2022-10-12T01:55:32.174664Z",
          "shell.execute_reply": "2022-10-12T01:55:32.185484Z"
        },
        "trusted": true,
        "id": "Ou3o0QuI4JfP",
        "outputId": "2faa2f2c-d756-4d31-fafa-1a8ce9a4d47b"
      },
      "execution_count": null,
      "outputs": [
        {
          "execution_count": 25,
          "output_type": "execute_result",
          "data": {
            "text/plain": "array(['politicsNews', 'worldnews'], dtype=object)"
          },
          "metadata": {}
        }
      ]
    },
    {
      "cell_type": "markdown",
      "source": [
        "Drop the date from the dataset, I don't think there is a strong correlation between date and validity of the news. As we see above, subjects are not distributed evenly. We do not want that to influence the accuracy of our classifier. Therefore, we need to drop that as well. "
      ],
      "metadata": {
        "id": "K7F0bXwu4JfP"
      }
    },
    {
      "cell_type": "code",
      "source": [
        "fake_df.drop(['date', 'subject'], axis=1, inplace=True)\n",
        "real_df.drop(['date', 'subject'], axis=1, inplace=True)"
      ],
      "metadata": {
        "execution": {
          "iopub.status.busy": "2022-10-12T01:55:32.187950Z",
          "iopub.execute_input": "2022-10-12T01:55:32.188252Z",
          "iopub.status.idle": "2022-10-12T01:55:32.202678Z",
          "shell.execute_reply.started": "2022-10-12T01:55:32.188222Z",
          "shell.execute_reply": "2022-10-12T01:55:32.201382Z"
        },
        "trusted": true,
        "id": "wFuaMvVd4JfP"
      },
      "execution_count": null,
      "outputs": []
    },
    {
      "cell_type": "markdown",
      "source": [
        "0 for fake news, and 1 for real news"
      ],
      "metadata": {
        "id": "P0R6ZvZU4JfP"
      }
    },
    {
      "cell_type": "code",
      "source": [
        "fake_df['class'] = 0 \n",
        "real_df['class'] = 1"
      ],
      "metadata": {
        "execution": {
          "iopub.status.busy": "2022-10-12T01:55:32.204193Z",
          "iopub.execute_input": "2022-10-12T01:55:32.204661Z",
          "iopub.status.idle": "2022-10-12T01:55:32.215201Z",
          "shell.execute_reply.started": "2022-10-12T01:55:32.204626Z",
          "shell.execute_reply": "2022-10-12T01:55:32.214313Z"
        },
        "trusted": true,
        "id": "IHZbVfRr4JfP"
      },
      "execution_count": null,
      "outputs": []
    },
    {
      "cell_type": "markdown",
      "source": [
        "Check out the distribution of fake news compare to real news"
      ],
      "metadata": {
        "id": "ci51x4N14JfP"
      }
    },
    {
      "cell_type": "code",
      "source": [
        "plt.figure(figsize=(10, 5))\n",
        "plt.bar('Fake News', len(fake_df), color='orange')\n",
        "plt.bar('Real News', len(real_df), color='green')\n",
        "plt.title('Distribution of Fake News and Real News', size=15)\n",
        "plt.xlabel('News Type', size=15)\n",
        "plt.ylabel('# of News Articles', size=15)\n",
        "\n",
        "\n",
        "total_len = len(fake_df) + len(real_df)\n",
        "plt.figure(figsize=(10, 5))\n",
        "plt.bar('Fake News', len(fake_df) / total_len, color='orange')\n",
        "plt.bar('Real News', len(real_df) / total_len, color='green')\n",
        "plt.title('Distribution of Fake News and Real News', size=15)\n",
        "plt.xlabel('News Type', size=15)\n",
        "plt.ylabel('Proportion of News Articles', size=15)"
      ],
      "metadata": {
        "execution": {
          "iopub.status.busy": "2022-10-12T01:55:32.216250Z",
          "iopub.execute_input": "2022-10-12T01:55:32.216707Z",
          "iopub.status.idle": "2022-10-12T01:55:32.475890Z",
          "shell.execute_reply.started": "2022-10-12T01:55:32.216677Z",
          "shell.execute_reply": "2022-10-12T01:55:32.474666Z"
        },
        "trusted": true,
        "id": "oJ3AIcDz4JfP",
        "outputId": "f6e2079f-ddae-4b28-d884-edea89a5d2e5"
      },
      "execution_count": null,
      "outputs": [
        {
          "execution_count": 28,
          "output_type": "execute_result",
          "data": {
            "text/plain": "Text(0, 0.5, 'Proportion of News Articles')"
          },
          "metadata": {}
        },
        {
          "output_type": "display_data",
          "data": {
            "text/plain": "<Figure size 720x360 with 1 Axes>",
            "image/png": "[encoded data removed]"
          },
          "metadata": {}
        },
        {
          "output_type": "display_data",
          "data": {
            "text/plain": "<Figure size 720x360 with 1 Axes>",
            "image/png": "[encoded data removed]"
          },
          "metadata": {}
        }
      ]
    },
    {
      "cell_type": "code",
      "source": [
        "print('Difference in news articles:',len(fake_df)-len(real_df))"
      ],
      "metadata": {
        "execution": {
          "iopub.status.busy": "2022-10-12T01:55:32.477679Z",
          "iopub.execute_input": "2022-10-12T01:55:32.478005Z",
          "iopub.status.idle": "2022-10-12T01:55:32.486769Z",
          "shell.execute_reply.started": "2022-10-12T01:55:32.477975Z",
          "shell.execute_reply": "2022-10-12T01:55:32.485558Z"
        },
        "trusted": true,
        "id": "8dvwPxi44JfQ",
        "outputId": "ebd60f3b-5d38-408d-bca8-6166bc4a00ff"
      },
      "execution_count": null,
      "outputs": [
        {
          "name": "stdout",
          "text": "Difference in news articles: 2064\n",
          "output_type": "stream"
        }
      ]
    },
    {
      "cell_type": "code",
      "source": [
        "news_df = pd.concat([fake_df, real_df], ignore_index=True, sort=False)\n",
        "news_df"
      ],
      "metadata": {
        "execution": {
          "iopub.status.busy": "2022-10-12T01:55:32.488556Z",
          "iopub.execute_input": "2022-10-12T01:55:32.489072Z",
          "iopub.status.idle": "2022-10-12T01:55:32.511524Z",
          "shell.execute_reply.started": "2022-10-12T01:55:32.489015Z",
          "shell.execute_reply": "2022-10-12T01:55:32.510278Z"
        },
        "trusted": true,
        "id": "gC0ZQh7z4JfQ",
        "outputId": "9f1d7979-c4d5-484e-eb9e-00619c1bae71"
      },
      "execution_count": null,
      "outputs": [
        {
          "execution_count": 30,
          "output_type": "execute_result",
          "data": {
            "text/plain": "                                                   title  \\\n0       Donald Trump Sends Out Embarrassing New Year’...   \n1       Drunk Bragging Trump Staffer Started Russian ...   \n2       Sheriff David Clarke Becomes An Internet Joke...   \n3       Trump Is So Obsessed He Even Has Obama’s Name...   \n4       Pope Francis Just Called Out Donald Trump Dur...   \n...                                                  ...   \n44893  'Fully committed' NATO backs new U.S. approach...   \n44894  LexisNexis withdrew two products from Chinese ...   \n44895  Minsk cultural hub becomes haven from authorities   \n44896  Vatican upbeat on possibility of Pope Francis ...   \n44897  Indonesia to buy $1.14 billion worth of Russia...   \n\n                                                    text  class  \n0      Donald Trump just couldn t wish all Americans ...      0  \n1      House Intelligence Committee Chairman Devin Nu...      0  \n2      On Friday, it was revealed that former Milwauk...      0  \n3      On Christmas day, Donald Trump announced that ...      0  \n4      Pope Francis used his annual Christmas Day mes...      0  \n...                                                  ...    ...  \n44893  BRUSSELS (Reuters) - NATO allies on Tuesday we...      1  \n44894  LONDON (Reuters) - LexisNexis, a provider of l...      1  \n44895  MINSK (Reuters) - In the shadow of disused Sov...      1  \n44896  MOSCOW (Reuters) - Vatican Secretary of State ...      1  \n44897  JAKARTA (Reuters) - Indonesia will buy 11 Sukh...      1  \n\n[44898 rows x 3 columns]",
            "text/html": "<div>\n<style scoped>\n    .dataframe tbody tr th:only-of-type {\n        vertical-align: middle;\n    }\n\n    .dataframe tbody tr th {\n        vertical-align: top;\n    }\n\n    .dataframe thead th {\n        text-align: right;\n    }\n</style>\n<table border=\"1\" class=\"dataframe\">\n  <thead>\n    <tr style=\"text-align: right;\">\n      <th></th>\n      <th>title</th>\n      <th>text</th>\n      <th>class</th>\n    </tr>\n  </thead>\n  <tbody>\n    <tr>\n      <th>0</th>\n      <td>Donald Trump Sends Out Embarrassing New Year’...</td>\n      <td>Donald Trump just couldn t wish all Americans ...</td>\n      <td>0</td>\n    </tr>\n    <tr>\n      <th>1</th>\n      <td>Drunk Bragging Trump Staffer Started Russian ...</td>\n      <td>House Intelligence Committee Chairman Devin Nu...</td>\n      <td>0</td>\n    </tr>\n    <tr>\n      <th>2</th>\n      <td>Sheriff David Clarke Becomes An Internet Joke...</td>\n      <td>On Friday, it was revealed that former Milwauk...</td>\n      <td>0</td>\n    </tr>\n    <tr>\n      <th>3</th>\n      <td>Trump Is So Obsessed He Even Has Obama’s Name...</td>\n      <td>On Christmas day, Donald Trump announced that ...</td>\n      <td>0</td>\n    </tr>\n    <tr>\n      <th>4</th>\n      <td>Pope Francis Just Called Out Donald Trump Dur...</td>\n      <td>Pope Francis used his annual Christmas Day mes...</td>\n      <td>0</td>\n    </tr>\n    <tr>\n      <th>...</th>\n      <td>...</td>\n      <td>...</td>\n      <td>...</td>\n    </tr>\n    <tr>\n      <th>44893</th>\n      <td>'Fully committed' NATO backs new U.S. approach...</td>\n      <td>BRUSSELS (Reuters) - NATO allies on Tuesday we...</td>\n      <td>1</td>\n    </tr>\n    <tr>\n      <th>44894</th>\n      <td>LexisNexis withdrew two products from Chinese ...</td>\n      <td>LONDON (Reuters) - LexisNexis, a provider of l...</td>\n      <td>1</td>\n    </tr>\n    <tr>\n      <th>44895</th>\n      <td>Minsk cultural hub becomes haven from authorities</td>\n      <td>MINSK (Reuters) - In the shadow of disused Sov...</td>\n      <td>1</td>\n    </tr>\n    <tr>\n      <th>44896</th>\n      <td>Vatican upbeat on possibility of Pope Francis ...</td>\n      <td>MOSCOW (Reuters) - Vatican Secretary of State ...</td>\n      <td>1</td>\n    </tr>\n    <tr>\n      <th>44897</th>\n      <td>Indonesia to buy $1.14 billion worth of Russia...</td>\n      <td>JAKARTA (Reuters) - Indonesia will buy 11 Sukh...</td>\n      <td>1</td>\n    </tr>\n  </tbody>\n</table>\n<p>44898 rows × 3 columns</p>\n</div>"
          },
          "metadata": {}
        }
      ]
    },
    {
      "cell_type": "markdown",
      "source": [
        "Combining the title with the text, it is much easier to process this way. "
      ],
      "metadata": {
        "id": "B2q-vcwq4JfQ"
      }
    },
    {
      "cell_type": "code",
      "source": [
        "news_df['text'] = news_df['title'] + news_df['text']\n",
        "news_df.drop('title', axis=1, inplace=True)"
      ],
      "metadata": {
        "execution": {
          "iopub.status.busy": "2022-10-12T01:55:32.512865Z",
          "iopub.execute_input": "2022-10-12T01:55:32.513179Z",
          "iopub.status.idle": "2022-10-12T01:55:32.647938Z",
          "shell.execute_reply.started": "2022-10-12T01:55:32.513139Z",
          "shell.execute_reply": "2022-10-12T01:55:32.646722Z"
        },
        "trusted": true,
        "id": "vGCzs37p4JfQ"
      },
      "execution_count": null,
      "outputs": []
    },
    {
      "cell_type": "markdown",
      "source": [
        "Split into training and testing "
      ],
      "metadata": {
        "id": "loiok-0q4JfQ"
      }
    },
    {
      "cell_type": "code",
      "source": [
        "features = news_df['text']\n",
        "targets = news_df['class']\n",
        "\n",
        "X_train, X_test, y_train, y_test = train_test_split(features, targets, test_size=0.20, random_state=18)"
      ],
      "metadata": {
        "execution": {
          "iopub.status.busy": "2022-10-12T01:55:32.649320Z",
          "iopub.execute_input": "2022-10-12T01:55:32.649679Z",
          "iopub.status.idle": "2022-10-12T01:55:32.665869Z",
          "shell.execute_reply.started": "2022-10-12T01:55:32.649648Z",
          "shell.execute_reply": "2022-10-12T01:55:32.664887Z"
        },
        "trusted": true,
        "id": "GfxmFIAi4JfQ"
      },
      "execution_count": null,
      "outputs": []
    },
    {
      "cell_type": "markdown",
      "source": [
        "Normalizing our data: lower case, get rid of extra spaces, and url links. "
      ],
      "metadata": {
        "id": "GcdgjUrh4JfQ"
      }
    },
    {
      "cell_type": "code",
      "source": [
        "def normalize(data):\n",
        "    normalized = []\n",
        "    for i in data:\n",
        "        i = i.lower()\n",
        "        # get rid of urls\n",
        "        i = re.sub('https?://\\S+|www\\.\\S+', '', i)\n",
        "        # get rid of non words and extra spaces\n",
        "        i = re.sub('\\\\W', ' ', i)\n",
        "        i = re.sub('\\n', '', i)\n",
        "        i = re.sub(' +', ' ', i)\n",
        "        i = re.sub('^ ', '', i)\n",
        "        i = re.sub(' $', '', i)\n",
        "        normalized.append(i)\n",
        "    return normalized\n",
        "\n",
        "X_train = normalize(X_train)\n",
        "X_test = normalize(X_test)"
      ],
      "metadata": {
        "execution": {
          "iopub.status.busy": "2022-10-12T01:55:32.667447Z",
          "iopub.execute_input": "2022-10-12T01:55:32.667799Z",
          "iopub.status.idle": "2022-10-12T01:55:50.192829Z",
          "shell.execute_reply.started": "2022-10-12T01:55:32.667759Z",
          "shell.execute_reply": "2022-10-12T01:55:50.191566Z"
        },
        "trusted": true,
        "id": "W95ZxL854JfQ"
      },
      "execution_count": null,
      "outputs": []
    },
    {
      "cell_type": "code",
      "source": [
        "max_vocab = 10000\n",
        "tokenizer = Tokenizer(num_words=max_vocab)\n",
        "tokenizer.fit_on_texts(X_train)"
      ],
      "metadata": {
        "execution": {
          "iopub.status.busy": "2022-10-12T01:55:50.194041Z",
          "iopub.execute_input": "2022-10-12T01:55:50.194326Z",
          "iopub.status.idle": "2022-10-12T01:56:02.866711Z",
          "shell.execute_reply.started": "2022-10-12T01:55:50.194298Z",
          "shell.execute_reply": "2022-10-12T01:56:02.865412Z"
        },
        "trusted": true,
        "id": "DIo62wUD4JfQ"
      },
      "execution_count": null,
      "outputs": []
    },
    {
      "cell_type": "markdown",
      "source": [
        "Convert text to vectors, our classifier only takes numerical data. "
      ],
      "metadata": {
        "id": "gn0TiQaj4JfR"
      }
    },
    {
      "cell_type": "code",
      "source": [
        "# tokenize the text into vectors \n",
        "X_train = tokenizer.texts_to_sequences(X_train)\n",
        "X_test = tokenizer.texts_to_sequences(X_test)"
      ],
      "metadata": {
        "execution": {
          "iopub.status.busy": "2022-10-12T01:56:02.868226Z",
          "iopub.execute_input": "2022-10-12T01:56:02.868621Z",
          "iopub.status.idle": "2022-10-12T01:56:15.014330Z",
          "shell.execute_reply.started": "2022-10-12T01:56:02.868571Z",
          "shell.execute_reply": "2022-10-12T01:56:15.013493Z"
        },
        "trusted": true,
        "id": "zNfoBR-O4JfR"
      },
      "execution_count": null,
      "outputs": []
    },
    {
      "cell_type": "markdown",
      "source": [
        "Apply padding so we have the same length for each article "
      ],
      "metadata": {
        "id": "JcGLCxPn4JfR"
      }
    },
    {
      "cell_type": "code",
      "source": [
        "X_train = tf.keras.preprocessing.sequence.pad_sequences(X_train, padding='post', maxlen=256)\n",
        "X_test = tf.keras.preprocessing.sequence.pad_sequences(X_test, padding='post', maxlen=256)"
      ],
      "metadata": {
        "execution": {
          "iopub.status.busy": "2022-10-12T01:56:15.016249Z",
          "iopub.execute_input": "2022-10-12T01:56:15.016559Z",
          "iopub.status.idle": "2022-10-12T01:56:16.090714Z",
          "shell.execute_reply.started": "2022-10-12T01:56:15.016531Z",
          "shell.execute_reply": "2022-10-12T01:56:16.089633Z"
        },
        "trusted": true,
        "id": "cEuqxkU54JfR"
      },
      "execution_count": null,
      "outputs": []
    },
    {
      "cell_type": "markdown",
      "source": [
        "Building the RNN."
      ],
      "metadata": {
        "id": "I8oG3PSa4JfR"
      }
    },
    {
      "cell_type": "code",
      "source": [
        "model = tf.keras.Sequential([\n",
        "    tf.keras.layers.Embedding(max_vocab, 128),\n",
        "    tf.keras.layers.Bidirectional(tf.keras.layers.LSTM(64,  return_sequences=True)),\n",
        "    tf.keras.layers.Bidirectional(tf.keras.layers.LSTM(16)),\n",
        "    tf.keras.layers.Dense(64, activation='relu'),\n",
        "    tf.keras.layers.Dropout(0.5),\n",
        "    tf.keras.layers.Dense(1)\n",
        "])\n",
        "\n",
        "model.summary()"
      ],
      "metadata": {
        "execution": {
          "iopub.status.busy": "2022-10-12T01:56:16.091872Z",
          "iopub.execute_input": "2022-10-12T01:56:16.092164Z",
          "iopub.status.idle": "2022-10-12T01:56:17.122786Z",
          "shell.execute_reply.started": "2022-10-12T01:56:16.092137Z",
          "shell.execute_reply": "2022-10-12T01:56:17.121671Z"
        },
        "trusted": true,
        "id": "hg_UyWb24JfR",
        "outputId": "5f2d896b-ef97-4f59-e04d-95aaef3dda6d"
      },
      "execution_count": null,
      "outputs": [
        {
          "name": "stdout",
          "text": "Model: \"sequential_1\"\n_________________________________________________________________\nLayer (type)                 Output Shape              Param #   \n=================================================================\nembedding_1 (Embedding)      (None, None, 128)         1280000   \n_________________________________________________________________\nbidirectional_2 (Bidirection (None, None, 128)         98816     \n_________________________________________________________________\nbidirectional_3 (Bidirection (None, 32)                18560     \n_________________________________________________________________\ndense_2 (Dense)              (None, 64)                2112      \n_________________________________________________________________\ndropout_1 (Dropout)          (None, 64)                0         \n_________________________________________________________________\ndense_3 (Dense)              (None, 1)                 65        \n=================================================================\nTotal params: 1,399,553\nTrainable params: 1,399,553\nNon-trainable params: 0\n_________________________________________________________________\n",
          "output_type": "stream"
        }
      ]
    },
    {
      "cell_type": "markdown",
      "source": [
        "We are going to use early stop, which stops when the validation loss no longer improve."
      ],
      "metadata": {
        "id": "6YHfmJb-4JfR"
      }
    },
    {
      "cell_type": "code",
      "source": [
        "early_stop = tf.keras.callbacks.EarlyStopping(monitor='val_loss', patience=2, restore_best_weights=True)\n",
        "model.compile(loss=tf.keras.losses.BinaryCrossentropy(from_logits=True),\n",
        "              optimizer=tf.keras.optimizers.Adam(1e-4),\n",
        "              metrics=['accuracy'])\n",
        "\n",
        "history = model.fit(X_train, y_train, epochs=1,validation_split=0.1, batch_size=30, shuffle=True, callbacks=[early_stop])"
      ],
      "metadata": {
        "execution": {
          "iopub.status.busy": "2022-10-12T01:56:17.124051Z",
          "iopub.execute_input": "2022-10-12T01:56:17.124343Z",
          "iopub.status.idle": "2022-10-12T02:02:34.169752Z",
          "shell.execute_reply.started": "2022-10-12T01:56:17.124316Z",
          "shell.execute_reply": "2022-10-12T02:02:34.168709Z"
        },
        "trusted": true,
        "id": "StyRcvB-4JfR",
        "outputId": "534a38ec-5360-460d-865f-50c80cf63fd1"
      },
      "execution_count": null,
      "outputs": [
        {
          "name": "stdout",
          "text": "1078/1078 [==============================] - 371s 344ms/step - loss: 0.2325 - accuracy: 0.8796 - val_loss: 0.0518 - val_accuracy: 0.9788\n",
          "output_type": "stream"
        }
      ]
    },
    {
      "cell_type": "markdown",
      "source": [
        "Visualize our training over time "
      ],
      "metadata": {
        "id": "KYeAKZ3F4JfR"
      }
    },
    {
      "cell_type": "code",
      "source": [
        "history_dict = history.history\n",
        "\n",
        "acc = history_dict['accuracy']\n",
        "val_acc = history_dict['val_accuracy']\n",
        "loss = history_dict['loss']\n",
        "val_loss = history_dict['val_loss']\n",
        "epochs = history.epoch\n",
        "\n",
        "plt.figure(figsize=(12,9))\n",
        "plt.plot(epochs, loss, 'r', label='Training loss')\n",
        "plt.plot(epochs, val_loss, 'b', label='Validation loss')\n",
        "plt.title('Training and validation loss', size=20)\n",
        "plt.xlabel('Epochs', size=20)\n",
        "plt.ylabel('Loss', size=20)\n",
        "plt.legend(prop={'size': 20})\n",
        "plt.show()\n",
        "\n",
        "plt.figure(figsize=(12,9))\n",
        "plt.plot(epochs, acc, 'g', label='Training acc')\n",
        "plt.plot(epochs, val_acc, 'b', label='Validation acc')\n",
        "plt.title('Training and validation accuracy', size=20)\n",
        "plt.xlabel('Epochs', size=20)\n",
        "plt.ylabel('Accuracy', size=20)\n",
        "plt.legend(prop={'size': 20})\n",
        "plt.ylim((0.5,1))\n",
        "plt.show()"
      ],
      "metadata": {
        "execution": {
          "iopub.status.busy": "2022-10-12T02:02:34.171439Z",
          "iopub.execute_input": "2022-10-12T02:02:34.171821Z",
          "iopub.status.idle": "2022-10-12T02:02:34.573582Z",
          "shell.execute_reply.started": "2022-10-12T02:02:34.171786Z",
          "shell.execute_reply": "2022-10-12T02:02:34.572698Z"
        },
        "trusted": true,
        "id": "MCIlAgL-4JfR",
        "outputId": "81f07274-7ecf-4193-fcf1-d935aa6fbce4"
      },
      "execution_count": null,
      "outputs": [
        {
          "output_type": "display_data",
          "data": {
            "text/plain": "<Figure size 864x648 with 1 Axes>",
            "image/png": "[encoded data removed]"
          },
          "metadata": {}
        },
        {
          "output_type": "display_data",
          "data": {
            "text/plain": "<Figure size 864x648 with 1 Axes>",
            "image/png": "[encoded data removed]"
          },
          "metadata": {}
        }
      ]
    },
    {
      "cell_type": "markdown",
      "source": [
        "Evaluate the testing set "
      ],
      "metadata": {
        "id": "ZemCHYJK4JfR"
      }
    },
    {
      "cell_type": "code",
      "source": [
        "model.evaluate(X_test, y_test)"
      ],
      "metadata": {
        "execution": {
          "iopub.status.busy": "2022-10-12T02:02:34.575102Z",
          "iopub.execute_input": "2022-10-12T02:02:34.575426Z",
          "iopub.status.idle": "2022-10-12T02:02:54.105742Z",
          "shell.execute_reply.started": "2022-10-12T02:02:34.575397Z",
          "shell.execute_reply": "2022-10-12T02:02:54.104464Z"
        },
        "trusted": true,
        "id": "TQa55_Q_4JfR",
        "outputId": "ba44186a-0714-463e-b0f4-93795ab23457"
      },
      "execution_count": null,
      "outputs": [
        {
          "name": "stdout",
          "text": "281/281 [==============================] - 19s 69ms/step - loss: 0.0585 - accuracy: 0.9794\n",
          "output_type": "stream"
        },
        {
          "execution_count": 40,
          "output_type": "execute_result",
          "data": {
            "text/plain": "[0.058461517095565796, 0.9793986678123474]"
          },
          "metadata": {}
        }
      ]
    },
    {
      "cell_type": "code",
      "source": [
        "pred = model.predict(X_test)\n",
        "\n",
        "binary_predictions = []\n",
        "\n",
        "for i in pred:\n",
        "    if i >= 0.5:\n",
        "        binary_predictions.append(1)\n",
        "    else:\n",
        "        binary_predictions.append(0) "
      ],
      "metadata": {
        "execution": {
          "iopub.status.busy": "2022-10-12T02:02:54.107477Z",
          "iopub.execute_input": "2022-10-12T02:02:54.107951Z",
          "iopub.status.idle": "2022-10-12T02:03:14.321679Z",
          "shell.execute_reply.started": "2022-10-12T02:02:54.107902Z",
          "shell.execute_reply": "2022-10-12T02:03:14.320724Z"
        },
        "trusted": true,
        "id": "PkZ9SXqy4JfR"
      },
      "execution_count": null,
      "outputs": []
    },
    {
      "cell_type": "code",
      "source": [
        "print('Accuracy on testing set:', accuracy_score(binary_predictions, y_test))\n",
        "print('Precision on testing set:', precision_score(binary_predictions, y_test))\n",
        "print('Recall on testing set:', recall_score(binary_predictions, y_test))"
      ],
      "metadata": {
        "execution": {
          "iopub.status.busy": "2022-10-12T02:03:14.323287Z",
          "iopub.execute_input": "2022-10-12T02:03:14.323737Z",
          "iopub.status.idle": "2022-10-12T02:03:14.357496Z",
          "shell.execute_reply.started": "2022-10-12T02:03:14.323690Z",
          "shell.execute_reply": "2022-10-12T02:03:14.356293Z"
        },
        "trusted": true,
        "id": "5YC0hltt4JfS",
        "outputId": "7e64ece8-70fd-4db5-b8fa-4d3ec6c91041"
      },
      "execution_count": null,
      "outputs": [
        {
          "name": "stdout",
          "text": "Accuracy on testing set: 0.9793986636971047\nPrecision on testing set: 0.9634089856415007\nRecall on testing set: 0.9935514688320993\n",
          "output_type": "stream"
        }
      ]
    },
    {
      "cell_type": "markdown",
      "source": [
        "Confusion matrix "
      ],
      "metadata": {
        "id": "-m8CBk-A4JfS"
      }
    },
    {
      "cell_type": "code",
      "source": [
        "matrix = confusion_matrix(binary_predictions, y_test, normalize='all')\n",
        "plt.figure(figsize=(16, 10))\n",
        "ax= plt.subplot()\n",
        "sns.heatmap(matrix, annot=True, ax = ax)\n",
        "\n",
        "# labels, title and ticks\n",
        "ax.set_xlabel('Predicted Labels', size=20)\n",
        "ax.set_ylabel('True Labels', size=20)\n",
        "ax.set_title('Confusion Matrix', size=20) \n",
        "ax.xaxis.set_ticklabels([0,1], size=15)\n",
        "ax.yaxis.set_ticklabels([0,1], size=15)"
      ],
      "metadata": {
        "execution": {
          "iopub.status.busy": "2022-10-12T02:03:14.359189Z",
          "iopub.execute_input": "2022-10-12T02:03:14.359586Z",
          "iopub.status.idle": "2022-10-12T02:03:14.620083Z",
          "shell.execute_reply.started": "2022-10-12T02:03:14.359552Z",
          "shell.execute_reply": "2022-10-12T02:03:14.619063Z"
        },
        "trusted": true,
        "id": "R3MJyyky4JfS",
        "outputId": "e9e169d4-5e33-4bd4-b610-129adc60b6d2"
      },
      "execution_count": null,
      "outputs": [
        {
          "execution_count": 43,
          "output_type": "execute_result",
          "data": {
            "text/plain": "[Text(0, 0.5, '0'), Text(0, 1.5, '1')]"
          },
          "metadata": {}
        },
        {
          "output_type": "display_data",
          "data": {
            "text/plain": "<Figure size 1152x720 with 2 Axes>",
            "image/png": "[encoded data removed]"
          },
          "metadata": {}
        }
      ]
    },
    {
      "cell_type": "markdown",
      "source": [
        "Saves the weights for visualiation"
      ],
      "metadata": {
        "id": "jcYcv1_t4JfS"
      }
    },
    {
      "cell_type": "code",
      "source": [
        "e = model.layers[0]\n",
        "weights = e.get_weights()[0]\n",
        "print(weights.shape) # shape: (vocab_size, embedding_dim)"
      ],
      "metadata": {
        "execution": {
          "iopub.status.busy": "2022-10-12T02:03:14.621507Z",
          "iopub.execute_input": "2022-10-12T02:03:14.621892Z",
          "iopub.status.idle": "2022-10-12T02:03:14.637207Z",
          "shell.execute_reply.started": "2022-10-12T02:03:14.621855Z",
          "shell.execute_reply": "2022-10-12T02:03:14.635670Z"
        },
        "trusted": true,
        "id": "ip_-Mtnh4JfS",
        "outputId": "59c1d9ed-f722-4945-f3b3-00d628750a08"
      },
      "execution_count": null,
      "outputs": [
        {
          "name": "stdout",
          "text": "(10000, 128)\n",
          "output_type": "stream"
        }
      ]
    },
    {
      "cell_type": "code",
      "source": [
        "word_index = list(tokenizer.word_index.keys())\n",
        "word_index = word_index[:max_vocab-1]"
      ],
      "metadata": {
        "execution": {
          "iopub.status.busy": "2022-10-12T02:03:14.638866Z",
          "iopub.execute_input": "2022-10-12T02:03:14.639197Z",
          "iopub.status.idle": "2022-10-12T02:03:14.652849Z",
          "shell.execute_reply.started": "2022-10-12T02:03:14.639164Z",
          "shell.execute_reply": "2022-10-12T02:03:14.651456Z"
        },
        "trusted": true,
        "id": "xe-RSH8C4JfS"
      },
      "execution_count": null,
      "outputs": []
    },
    {
      "cell_type": "markdown",
      "source": [
        "Write to file so we can use tensorflow's embedding projector to visualize what our network learned. This is only based on the fake news dataset. "
      ],
      "metadata": {
        "id": "T4bcpBIb4JfS"
      }
    },
    {
      "cell_type": "code",
      "source": [
        "import io\n",
        "\n",
        "out_v = io.open('fakenews_vecs.tsv', 'w', encoding='utf-8')\n",
        "out_m = io.open('fakenews_meta.tsv', 'w', encoding='utf-8')\n",
        "\n",
        "for num, word in enumerate(word_index):\n",
        "  vec = weights[num+1] # skip 0, it's padding.\n",
        "  out_m.write(word + \"\\n\")\n",
        "  out_v.write('\\t'.join([str(x) for x in vec]) + \"\\n\")\n",
        "out_v.close()\n",
        "out_m.close()"
      ],
      "metadata": {
        "execution": {
          "iopub.status.busy": "2022-10-12T02:03:14.654477Z",
          "iopub.execute_input": "2022-10-12T02:03:14.654923Z",
          "iopub.status.idle": "2022-10-12T02:03:15.742767Z",
          "shell.execute_reply.started": "2022-10-12T02:03:14.654887Z",
          "shell.execute_reply": "2022-10-12T02:03:15.741698Z"
        },
        "trusted": true,
        "id": "6r-Q2MqU4JfS"
      },
      "execution_count": null,
      "outputs": []
    },
    {
      "cell_type": "markdown",
      "source": [
        "Embedding Projector: http://projector.tensorflow.org/\n",
        "<br>Picture credits: https://www.tensorflow.org/tensorboard/images/embedding_projector.png?raw=1\n",
        "\n",
        "![](https://www.tensorflow.org/tensorboard/images/embedding_projector.png?raw=1)"
      ],
      "metadata": {
        "id": "ezR-Ns8b4JfS"
      }
    }
  ]
}